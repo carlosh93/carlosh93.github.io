{
  "nbformat": 4,
  "nbformat_minor": 0,
  "metadata": {
    "colab": {
      "name": "Introduccion_Colab.ipynb",
      "provenance": [],
      "collapsed_sections": [],
      "toc_visible": true,
      "machine_shape": "hm"
    },
    "kernelspec": {
      "name": "python3",
      "display_name": "Python 3"
    },
    "accelerator": "GPU"
  },
  "cells": [
    {
      "cell_type": "markdown",
      "metadata": {
        "id": "m_rEHk47q6JP",
        "colab_type": "text"
      },
      "source": [
        "[![Open In Colab](https://colab.research.google.com/assets/colab-badge.svg)](https://colab.research.google.com/github/carlosh93/carlosh93.github.io/blob/master/files/introduccion_colab.ipynb)\n"
      ]
    },
    {
      "cell_type": "markdown",
      "metadata": {
        "id": "3ximHAFWzc-U",
        "colab_type": "text"
      },
      "source": [
        "Antes de empezar, da click en el boton \"Open in Colab\" de arriba. Esto abrirá este notebook de python directamente en Colab. Luego, para poder editar y ejecutar el código, deberas copiar el notebook en Google drive utilizando el boton:\n"
      ]
    },
    {
      "cell_type": "markdown",
      "metadata": {
        "id": "-eTjV3pU0HnC",
        "colab_type": "text"
      },
      "source": [
        "![texto alternativo](https://raw.githubusercontent.com/carlosh93/carlosh93.github.io/master/files/notebook_files/copy_drive.png)"
      ]
    },
    {
      "cell_type": "markdown",
      "metadata": {
        "id": "ZGx7nwhytu6H",
        "colab_type": "text"
      },
      "source": [
        "# Introducción"
      ]
    },
    {
      "cell_type": "markdown",
      "metadata": {
        "id": "RrI-V-3ltQpV",
        "colab_type": "text"
      },
      "source": [
        "El objetivo de este tutorial es proporcionar un flujo de trabajo para entrenar modelos de Deep Learning. El flujo de trabajo propuesto requiere tener instalado los siguientes componentes opcionales en nuestra computadora:\n",
        "\n",
        "1.   Cliente de sincronización de Google Drive.\n",
        "2.   Editor de texto o IDE de python como Pycharm.\n",
        "\n",
        "Aunque son opcionales, tener instalado los anteriores componentes facilita el flujo de trabajo. **La idea general será tener nuestro código python en una carpeta en Google Drive. De esta manera, utilizaremos el cliente de sincronización para modificar los archivos de manera local en nuestras computadoras (utilizando el editor de texto o un IDE de python) y que los cambios se vean reflejados directamente en Colab.** Aunque Colab permite editar archivos (simplemente dando doble click en el archivo deseado en el menu de la izquierda) es mucho mas sencillo y cómodo editar y manipular archivos complejos en un IDE de python.\n",
        "\n",
        "## Cliente Google Drive\n",
        "Para sistemas operativos Windows y Mac el cliente de Google drive puede ser descargado directamente de la pagina de google drive\n",
        "\n",
        "https://www.google.com/drive/download/\n",
        "\n",
        "Sin embargo, para sistemas operativos Linux no existe un cliente oficial de google drive, pero existen alternativas excelentes como Insync (Software pago una única vez) o el cliente para sistemas Ubuntu:\n",
        "\n",
        "https://cambiatealinux.com/instalar-google-drive-en-ubuntu\n",
        "\n",
        "## Editor de Python\n",
        "Para trabajar con proyectos Python, es recomendable utilizar el entorno de desarrollo integrado (IDE) Pycharm. Actualmente, es posible acceder a una licencia de estudiante de la version profesional de Pycharm por un año:\n",
        "\n",
        "https://www.jetbrains.com/es-es/community/education/#students\n",
        "\n",
        "Para acceder al beneficio solo se necesita el correo electronico institucional (@correo.uis.edu.co o @saber.uis.edu.co o @uis.edu.co).\n",
        "\n",
        "Si no se desea utilizar un IDE, es posible trabajar con un editor avanzado de texto: Visual Studio Code:\n",
        "\n",
        "https://code.visualstudio.com/\n"
      ]
    },
    {
      "cell_type": "markdown",
      "metadata": {
        "id": "7wk2whNO12fE",
        "colab_type": "text"
      },
      "source": [
        "# Solicitar Recursos a Colab\n",
        "Una vez creemos un notebook en Colab, para solicitar recursos debemos primero seleccionar el entorno de ejecución adeacuado y dar click en el botón Conectar:\n",
        "\n",
        "![texto alternativo](https://raw.githubusercontent.com/carlosh93/carlosh93.github.io/master/files/notebook_files/sel_entorno_conect.gif)\n",
        "\n",
        "Una vez conectados, Colab nos asigna un entorno **Linux con 25.51 GB de Ram, 68 GB de disco duro** y una GPU cuyas caracteristicas podemos consultar ejecutando la siguiente celda"
      ]
    },
    {
      "cell_type": "markdown",
      "metadata": {
        "id": "7KYvm7elVabs",
        "colab_type": "text"
      },
      "source": [
        "### Características de la GPU asignada\n",
        "\n"
      ]
    },
    {
      "cell_type": "code",
      "metadata": {
        "id": "-nwY1_gYVcpc",
        "colab_type": "code",
        "outputId": "ef958457-5f82-4b3e-ae73-7d9073536c3b",
        "colab": {
          "base_uri": "https://localhost:8080/",
          "height": 403
        }
      },
      "source": [
        "# Check nvidia and nvcc cuda compiler\n",
        "\n",
        "!nvidia-smi\n",
        "!/usr/local/cuda/bin/nvcc --version"
      ],
      "execution_count": 0,
      "outputs": [
        {
          "output_type": "stream",
          "text": [
            "Mon May 18 04:09:49 2020       \n",
            "+-----------------------------------------------------------------------------+\n",
            "| NVIDIA-SMI 440.82       Driver Version: 418.67       CUDA Version: 10.1     |\n",
            "|-------------------------------+----------------------+----------------------+\n",
            "| GPU  Name        Persistence-M| Bus-Id        Disp.A | Volatile Uncorr. ECC |\n",
            "| Fan  Temp  Perf  Pwr:Usage/Cap|         Memory-Usage | GPU-Util  Compute M. |\n",
            "|===============================+======================+======================|\n",
            "|   0  Tesla P100-PCIE...  Off  | 00000000:00:04.0 Off |                    0 |\n",
            "| N/A   34C    P0    27W / 250W |      0MiB / 16280MiB |      0%      Default |\n",
            "+-------------------------------+----------------------+----------------------+\n",
            "                                                                               \n",
            "+-----------------------------------------------------------------------------+\n",
            "| Processes:                                                       GPU Memory |\n",
            "|  GPU       PID   Type   Process name                             Usage      |\n",
            "|=============================================================================|\n",
            "|  No running processes found                                                 |\n",
            "+-----------------------------------------------------------------------------+\n",
            "nvcc: NVIDIA (R) Cuda compiler driver\n",
            "Copyright (c) 2005-2019 NVIDIA Corporation\n",
            "Built on Sun_Jul_28_19:07:16_PDT_2019\n",
            "Cuda compilation tools, release 10.1, V10.1.243\n"
          ],
          "name": "stdout"
        }
      ]
    },
    {
      "cell_type": "markdown",
      "metadata": {
        "id": "_w1rgEif51GY",
        "colab_type": "text"
      },
      "source": [
        "Por lo general, Colab asigna de manera aleatoria GPUs con diferente cantidad de memoria. Es recomendable utilizar una GPU de 16 o 15 GB de memoria para proyectos que requieran mucha memoria o trabajen con muchos datos. En caso de que Colab no nos asigne una GPU adecuada (algunas veces asigna GPUs de 8 o 11 GB de memoria) para nuestro proyecto, siempre podemos realizar distintas solicitudes hasta conseguir una GPU adecuada. Para esto debemos cerrar la sesion actual y volver a solicitar recursos:\n",
        "\n",
        "![texto alternativo](https://raw.githubusercontent.com/carlosh93/carlosh93.github.io/master/files/notebook_files/get_new_GPU.gif)\n",
        "\n",
        "Este proceso se repite varias veces hasta que se nos asigne la GPU deseada. Note que es posible que requiera recargar la ventana (F5) para poder finalizar la sesion. **OJO** Esto solo es necesario hacerlo si necesitamos una GPU de un tamaño de memoria especifico. Si nuestro proyecto es pequeño, cualquier GPU asignada por Colab servirá.\n",
        "\n",
        "Nota: Este notebook está pre-configurado para trabajar con 25 Gb de memoria RAM, sin embargo esta configuración no es por defecto. La cantidad de memoria asignada por general es de 12 a 16 GB. Si crea un notebook nuevo en Colab y quiere tener 25 GB ver sección de Bonus al final de este tutorial. \n"
      ]
    },
    {
      "cell_type": "markdown",
      "metadata": {
        "id": "pweDIkFZ_R6h",
        "colab_type": "text"
      },
      "source": [
        "### Comandos Básicos\n",
        "Debido a que cada notebook de Colab se ejecuta en una máquina Linux, es posible utilizar todos los comandos de Linux. Los comandos más básicos para movernos dentro de este tipo de ambiente son:\n",
        "\n",
        "```\n",
        "%pwd # Ver el directorio actual de trabajo\n",
        "%ls # Listar los archivos del directorio actual\n",
        "%cd # Cambiar de directorio\n",
        "%mkdir # Crear un nuevo directorio\n",
        "%rmdir # Eliminar un directorio vacio\n",
        "```\n",
        "Por ejemplo, si quiero ver en que carpeta me encuentro actualmente ejecuto una celda con el comando:"
      ]
    },
    {
      "cell_type": "code",
      "metadata": {
        "id": "6DFV8s42AaKq",
        "colab_type": "code",
        "outputId": "1cfa5723-d60c-42e3-c1f3-e331eb76b20f",
        "colab": {
          "base_uri": "https://localhost:8080/",
          "height": 35
        }
      },
      "source": [
        "%pwd"
      ],
      "execution_count": 0,
      "outputs": [
        {
          "output_type": "execute_result",
          "data": {
            "text/plain": [
              "'/content'"
            ]
          },
          "metadata": {
            "tags": []
          },
          "execution_count": 2
        }
      ]
    },
    {
      "cell_type": "markdown",
      "metadata": {
        "id": "6es6zvqQAcBs",
        "colab_type": "text"
      },
      "source": [
        "Como vemos, me encuentro en la carpeta '/content', es decir, la carpeta raiz de Colab. Adicionalmente, podemos ejecutar varios comandos dentro de una celda agregando %%shell al inicio de esta. Por ejemplo:"
      ]
    },
    {
      "cell_type": "code",
      "metadata": {
        "id": "M-sD4i_XBDKb",
        "colab_type": "code",
        "outputId": "6db8d764-c91c-4318-bf92-6a3f0953eed4",
        "colab": {
          "base_uri": "https://localhost:8080/",
          "height": 90
        }
      },
      "source": [
        "%%shell\n",
        "pwd\n",
        "ls\n",
        "mkdir \"nuevo_directorio\"\n",
        "ls\n",
        "rmdir \"nuevo_directorio\"\n",
        "ls"
      ],
      "execution_count": 0,
      "outputs": [
        {
          "output_type": "stream",
          "text": [
            "/content\n",
            "sample_data\n",
            "nuevo_directorio  sample_data\n",
            "sample_data\n"
          ],
          "name": "stdout"
        },
        {
          "output_type": "execute_result",
          "data": {
            "text/plain": [
              ""
            ]
          },
          "metadata": {
            "tags": []
          },
          "execution_count": 3
        }
      ]
    },
    {
      "cell_type": "markdown",
      "metadata": {
        "id": "OxlsQ-mqBfd2",
        "colab_type": "text"
      },
      "source": [
        "Note que si se agrega *%%shell* al inicio, se debe quitar el simbolo % al principio de cada comando. Así, en vez de escribir *%pwd*, escribimos *pwd* solamente. Note ademas, que el resultado de cada comando se muestra en una linea aparte. De esta manera, el primer comando ls, muestra el contenido de la carpeta /content, que en este caso es solo la carpeta 'sample_data/'. Luego creamos la carpeta 'nuevo_directorio' (observe que el comando mkdir no arroja ninguna salida), listamos el contenido de content/ para ver la nueva carpeta creada y por ultimo borramos la carpeta.\n",
        "\n",
        "En general se puede utilizar cualquier comando linux, incluso instalar paquetes linux con el software apt con\n",
        "\n",
        "\n",
        "```\n",
        "%%shell\n",
        "sudo apt install nano\n",
        "```"
      ]
    },
    {
      "cell_type": "code",
      "metadata": {
        "id": "yRrwXX3nCjSG",
        "colab_type": "code",
        "outputId": "9006b058-73ee-45d3-81eb-fef19933c1c7",
        "colab": {
          "base_uri": "https://localhost:8080/",
          "height": 534
        }
      },
      "source": [
        "%%shell\n",
        "sudo apt install nano"
      ],
      "execution_count": 0,
      "outputs": [
        {
          "output_type": "stream",
          "text": [
            "Reading package lists... Done\n",
            "Building dependency tree       \n",
            "Reading state information... Done\n",
            "Suggested packages:\n",
            "  spell\n",
            "The following NEW packages will be installed:\n",
            "  nano\n",
            "0 upgraded, 1 newly installed, 0 to remove and 31 not upgraded.\n",
            "Need to get 231 kB of archives.\n",
            "After this operation, 778 kB of additional disk space will be used.\n",
            "Get:1 http://archive.ubuntu.com/ubuntu bionic/main amd64 nano amd64 2.9.3-2 [231 kB]\n",
            "Fetched 231 kB in 2s (130 kB/s)\n",
            "debconf: unable to initialize frontend: Dialog\n",
            "debconf: (No usable dialog-like program is installed, so the dialog based frontend cannot be used. at /usr/share/perl5/Debconf/FrontEnd/Dialog.pm line 76, <> line 1.)\n",
            "debconf: falling back to frontend: Readline\n",
            "debconf: unable to initialize frontend: Readline\n",
            "debconf: (This frontend requires a controlling tty.)\n",
            "debconf: falling back to frontend: Teletype\n",
            "dpkg-preconfigure: unable to re-open stdin: \n",
            "Selecting previously unselected package nano.\n",
            "(Reading database ... 144433 files and directories currently installed.)\n",
            "Preparing to unpack .../nano_2.9.3-2_amd64.deb ...\n",
            "Unpacking nano (2.9.3-2) ...\n",
            "Setting up nano (2.9.3-2) ...\n",
            "update-alternatives: using /bin/nano to provide /usr/bin/editor (editor) in auto mode\n",
            "update-alternatives: using /bin/nano to provide /usr/bin/pico (pico) in auto mode\n",
            "Processing triggers for man-db (2.8.3-2ubuntu0.1) ...\n"
          ],
          "name": "stdout"
        },
        {
          "output_type": "execute_result",
          "data": {
            "text/plain": [
              ""
            ]
          },
          "metadata": {
            "tags": []
          },
          "execution_count": 4
        }
      ]
    },
    {
      "cell_type": "markdown",
      "metadata": {
        "id": "S1K5WLdVCqtd",
        "colab_type": "text"
      },
      "source": [
        "Puede buscar mas comandos en internet, una pagina inicial sería:\n",
        "\n",
        "https://marcosmarti.org/comandos-basicos-de-linux/"
      ]
    },
    {
      "cell_type": "markdown",
      "metadata": {
        "id": "EsLpUDE54l_M",
        "colab_type": "text"
      },
      "source": [
        "# Setup"
      ]
    },
    {
      "cell_type": "markdown",
      "metadata": {
        "id": "Fen2BpmMC-Ra",
        "colab_type": "text"
      },
      "source": [
        "Lo primero que haremos será conectarnos con nuestra cuenta de Google Drive. Importante conectarse a la cuenta de google drive en donde se tiene el código a ejecutar. Adicionalmente, esta cuenta debe estar previamente sincronizada en nuestra computadora utilizando un cliente de Google Drive (Ver Introducción). Para conectarnos a google drive, damos click a la celda de abajo y seguimos los pasos. Por favor seleccione la cuenta previamente sincronizada."
      ]
    },
    {
      "cell_type": "markdown",
      "metadata": {
        "id": "FT66Rd6yV3ib",
        "colab_type": "text"
      },
      "source": [
        "##Mount Goolge Drive"
      ]
    },
    {
      "cell_type": "code",
      "metadata": {
        "id": "tUCE2A_DVeMe",
        "colab_type": "code",
        "outputId": "dcc51e8e-22f5-40b6-b1c7-50ff56301e80",
        "colab": {
          "base_uri": "https://localhost:8080/",
          "height": 129
        }
      },
      "source": [
        "# link to google drive\n",
        "\n",
        "from google.colab import drive\n",
        "#drive.mount('/content/gdrive/')\n",
        "drive.mount(\"/content/gdrive/\", force_remount=True)"
      ],
      "execution_count": 0,
      "outputs": [
        {
          "output_type": "stream",
          "text": [
            "Go to this URL in a browser: https://accounts.google.com/o/oauth2/auth?client_id=947318989803-6bn6qk8qdgf4n4g3pfee6491hc0brc4i.apps.googleusercontent.com&redirect_uri=urn%3aietf%3awg%3aoauth%3a2.0%3aoob&response_type=code&scope=email%20https%3a%2f%2fwww.googleapis.com%2fauth%2fdocs.test%20https%3a%2f%2fwww.googleapis.com%2fauth%2fdrive%20https%3a%2f%2fwww.googleapis.com%2fauth%2fdrive.photos.readonly%20https%3a%2f%2fwww.googleapis.com%2fauth%2fpeopleapi.readonly\n",
            "\n",
            "Enter your authorization code:\n",
            "··········\n",
            "Mounted at /content/gdrive/\n"
          ],
          "name": "stdout"
        }
      ]
    },
    {
      "cell_type": "markdown",
      "metadata": {
        "id": "5xRGz4RsENOK",
        "colab_type": "text"
      },
      "source": [
        "Si damos click en el panel de la izquierda, al icono de carpeta, veremos que tenemos una nueva carpeta llamada 'gdrive'. De esta manera habremos sincronizado de manera correcta google drive con Colab.\n",
        "\n",
        "![texto alternativo](https://raw.githubusercontent.com/carlosh93/carlosh93.github.io/master/files/notebook_files/ver_gdrive.png)\n",
        "\n"
      ]
    },
    {
      "cell_type": "markdown",
      "metadata": {
        "id": "uz4-eA1DILhU",
        "colab_type": "text"
      },
      "source": [
        "Ahora la idea es trabajar en nuestro código. Existen básicamente dos maneras:\n",
        "\n",
        "\n",
        "1.   Añadir el codigo directamente en este notebook e ir ejecutando cada celda.\n",
        "2.   Ejecutar un script de python directamente desde una celda.\n",
        "\n",
        "En este tutorial se utilizará la segunda forma. Para esto utilicé como ejemplo el tutorial de tensorflow:\n",
        "\n",
        "https://www.tensorflow.org/tutorials/customization/custom_training_walkthrough\n",
        "\n",
        "Seguidamente, creé un proyecto en mi computadora local llamado colab_tutorial. La carpeta de este proyecto se encuentra sincronizado con mi Google Drive, por lo tanto, todo cambio que se realice en mi computadora local se vera reflejado directamente en Drive y, de igual forma, en Colab.\n",
        "\n",
        "![texto alternativo](https://raw.githubusercontent.com/carlosh93/carlosh93.github.io/master/files/notebook_files/screen_pycharm.png)\n",
        "\n",
        "Una vez tengamos listo el código en nuestra carpeta local, solo basta con ejecutar una celda de la siguiente forma\n",
        "\n",
        "\n",
        "```\n",
        "!python3 nombre_archivo.py --parametros (opcional)\n",
        "```\n",
        "\n",
        "De esta forma ejecutaremos nuestro código en Colab. Note que nuestro código tambien puede generar salidas, las cuales (si se almacenan dentro de la misma carpeta del proyecto) quedarán sincronizadas con nuestra computadora local.\n",
        "\n",
        "Nota: Si dan click al boton \"Run in colab\" dentro del link del tutorial de tensorflow les abrirá un notebook de Colab en el que pueden ir ejecutando celda por celda el proyecto (Forma 1. de trabajar descrita arriba)\n",
        "\n",
        "\n",
        "\n",
        "\n"
      ]
    },
    {
      "cell_type": "markdown",
      "metadata": {
        "id": "HkE6HZvtLBY4",
        "colab_type": "text"
      },
      "source": [
        "Aqui un ejemplo de ejecutar la funcion main.py dentro de mi carpeta proyecto \"colab_tutorial\". Primero vamos hacia la carpeta con los comandos básicos explicados en la sección 2."
      ]
    },
    {
      "cell_type": "code",
      "metadata": {
        "id": "Pmpom3PVK-Mm",
        "colab_type": "code",
        "outputId": "465769af-ed7c-4eed-a1f4-069c08c2215f",
        "colab": {
          "base_uri": "https://localhost:8080/",
          "height": 35
        }
      },
      "source": [
        "%cd /content/gdrive/My\\ Drive/colab_tutorial/"
      ],
      "execution_count": 0,
      "outputs": [
        {
          "output_type": "stream",
          "text": [
            "/content/gdrive/My Drive/colab_tutorial\n"
          ],
          "name": "stdout"
        }
      ]
    },
    {
      "cell_type": "code",
      "metadata": {
        "id": "IMuByfBuMBtw",
        "colab_type": "code",
        "outputId": "09b92522-65c9-4454-b98b-39904f85ed26",
        "colab": {
          "base_uri": "https://localhost:8080/",
          "height": 35
        }
      },
      "source": [
        "%ls"
      ],
      "execution_count": 0,
      "outputs": [
        {
          "output_type": "stream",
          "text": [
            "main.py\n"
          ],
          "name": "stdout"
        }
      ]
    },
    {
      "cell_type": "code",
      "metadata": {
        "id": "RSjArvv5MJmQ",
        "colab_type": "code",
        "outputId": "4f36ce3b-7833-4985-c937-d2ef09790913",
        "colab": {
          "base_uri": "https://localhost:8080/",
          "height": 1000
        }
      },
      "source": [
        "!python main.py"
      ],
      "execution_count": 0,
      "outputs": [
        {
          "output_type": "stream",
          "text": [
            "2020-05-18 05:21:20.642305: I tensorflow/stream_executor/platform/default/dso_loader.cc:44] Successfully opened dynamic library libcudart.so.10.1\n",
            "TensorFlow version: 2.2.0\n",
            "Eager execution: True\n",
            "Local copy of the dataset file: /root/.keras/datasets/iris_training.csv\n",
            "Features: ['sepal_length', 'sepal_width', 'petal_length', 'petal_width']\n",
            "Label: species\n",
            "2020-05-18 05:21:22.015275: I tensorflow/stream_executor/platform/default/dso_loader.cc:44] Successfully opened dynamic library libcuda.so.1\n",
            "2020-05-18 05:21:22.026983: I tensorflow/stream_executor/cuda/cuda_gpu_executor.cc:981] successful NUMA node read from SysFS had negative value (-1), but there must be at least one NUMA node, so returning NUMA node zero\n",
            "2020-05-18 05:21:22.027566: I tensorflow/core/common_runtime/gpu/gpu_device.cc:1561] Found device 0 with properties: \n",
            "pciBusID: 0000:00:04.0 name: Tesla P100-PCIE-16GB computeCapability: 6.0\n",
            "coreClock: 1.3285GHz coreCount: 56 deviceMemorySize: 15.90GiB deviceMemoryBandwidth: 681.88GiB/s\n",
            "2020-05-18 05:21:22.027612: I tensorflow/stream_executor/platform/default/dso_loader.cc:44] Successfully opened dynamic library libcudart.so.10.1\n",
            "2020-05-18 05:21:22.029330: I tensorflow/stream_executor/platform/default/dso_loader.cc:44] Successfully opened dynamic library libcublas.so.10\n",
            "2020-05-18 05:21:22.030818: I tensorflow/stream_executor/platform/default/dso_loader.cc:44] Successfully opened dynamic library libcufft.so.10\n",
            "2020-05-18 05:21:22.031147: I tensorflow/stream_executor/platform/default/dso_loader.cc:44] Successfully opened dynamic library libcurand.so.10\n",
            "2020-05-18 05:21:22.032777: I tensorflow/stream_executor/platform/default/dso_loader.cc:44] Successfully opened dynamic library libcusolver.so.10\n",
            "2020-05-18 05:21:22.033638: I tensorflow/stream_executor/platform/default/dso_loader.cc:44] Successfully opened dynamic library libcusparse.so.10\n",
            "2020-05-18 05:21:22.037068: I tensorflow/stream_executor/platform/default/dso_loader.cc:44] Successfully opened dynamic library libcudnn.so.7\n",
            "2020-05-18 05:21:22.037186: I tensorflow/stream_executor/cuda/cuda_gpu_executor.cc:981] successful NUMA node read from SysFS had negative value (-1), but there must be at least one NUMA node, so returning NUMA node zero\n",
            "2020-05-18 05:21:22.037725: I tensorflow/stream_executor/cuda/cuda_gpu_executor.cc:981] successful NUMA node read from SysFS had negative value (-1), but there must be at least one NUMA node, so returning NUMA node zero\n",
            "2020-05-18 05:21:22.038231: I tensorflow/core/common_runtime/gpu/gpu_device.cc:1703] Adding visible gpu devices: 0\n",
            "2020-05-18 05:21:22.043267: I tensorflow/core/platform/profile_utils/cpu_utils.cc:102] CPU Frequency: 2200000000 Hz\n",
            "2020-05-18 05:21:22.043507: I tensorflow/compiler/xla/service/service.cc:168] XLA service 0x2492bc0 initialized for platform Host (this does not guarantee that XLA will be used). Devices:\n",
            "2020-05-18 05:21:22.043539: I tensorflow/compiler/xla/service/service.cc:176]   StreamExecutor device (0): Host, Default Version\n",
            "2020-05-18 05:21:22.130777: I tensorflow/stream_executor/cuda/cuda_gpu_executor.cc:981] successful NUMA node read from SysFS had negative value (-1), but there must be at least one NUMA node, so returning NUMA node zero\n",
            "2020-05-18 05:21:22.131448: I tensorflow/compiler/xla/service/service.cc:168] XLA service 0x2492d80 initialized for platform CUDA (this does not guarantee that XLA will be used). Devices:\n",
            "2020-05-18 05:21:22.131479: I tensorflow/compiler/xla/service/service.cc:176]   StreamExecutor device (0): Tesla P100-PCIE-16GB, Compute Capability 6.0\n",
            "2020-05-18 05:21:22.131642: I tensorflow/stream_executor/cuda/cuda_gpu_executor.cc:981] successful NUMA node read from SysFS had negative value (-1), but there must be at least one NUMA node, so returning NUMA node zero\n",
            "2020-05-18 05:21:22.132170: I tensorflow/core/common_runtime/gpu/gpu_device.cc:1561] Found device 0 with properties: \n",
            "pciBusID: 0000:00:04.0 name: Tesla P100-PCIE-16GB computeCapability: 6.0\n",
            "coreClock: 1.3285GHz coreCount: 56 deviceMemorySize: 15.90GiB deviceMemoryBandwidth: 681.88GiB/s\n",
            "2020-05-18 05:21:22.132212: I tensorflow/stream_executor/platform/default/dso_loader.cc:44] Successfully opened dynamic library libcudart.so.10.1\n",
            "2020-05-18 05:21:22.132238: I tensorflow/stream_executor/platform/default/dso_loader.cc:44] Successfully opened dynamic library libcublas.so.10\n",
            "2020-05-18 05:21:22.132251: I tensorflow/stream_executor/platform/default/dso_loader.cc:44] Successfully opened dynamic library libcufft.so.10\n",
            "2020-05-18 05:21:22.132264: I tensorflow/stream_executor/platform/default/dso_loader.cc:44] Successfully opened dynamic library libcurand.so.10\n",
            "2020-05-18 05:21:22.132277: I tensorflow/stream_executor/platform/default/dso_loader.cc:44] Successfully opened dynamic library libcusolver.so.10\n",
            "2020-05-18 05:21:22.132289: I tensorflow/stream_executor/platform/default/dso_loader.cc:44] Successfully opened dynamic library libcusparse.so.10\n",
            "2020-05-18 05:21:22.132302: I tensorflow/stream_executor/platform/default/dso_loader.cc:44] Successfully opened dynamic library libcudnn.so.7\n",
            "2020-05-18 05:21:22.132355: I tensorflow/stream_executor/cuda/cuda_gpu_executor.cc:981] successful NUMA node read from SysFS had negative value (-1), but there must be at least one NUMA node, so returning NUMA node zero\n",
            "2020-05-18 05:21:22.132860: I tensorflow/stream_executor/cuda/cuda_gpu_executor.cc:981] successful NUMA node read from SysFS had negative value (-1), but there must be at least one NUMA node, so returning NUMA node zero\n",
            "2020-05-18 05:21:22.133353: I tensorflow/core/common_runtime/gpu/gpu_device.cc:1703] Adding visible gpu devices: 0\n",
            "2020-05-18 05:21:22.133400: I tensorflow/stream_executor/platform/default/dso_loader.cc:44] Successfully opened dynamic library libcudart.so.10.1\n",
            "2020-05-18 05:21:22.627590: I tensorflow/core/common_runtime/gpu/gpu_device.cc:1102] Device interconnect StreamExecutor with strength 1 edge matrix:\n",
            "2020-05-18 05:21:22.627646: I tensorflow/core/common_runtime/gpu/gpu_device.cc:1108]      0 \n",
            "2020-05-18 05:21:22.627673: I tensorflow/core/common_runtime/gpu/gpu_device.cc:1121] 0:   N \n",
            "2020-05-18 05:21:22.627857: I tensorflow/stream_executor/cuda/cuda_gpu_executor.cc:981] successful NUMA node read from SysFS had negative value (-1), but there must be at least one NUMA node, so returning NUMA node zero\n",
            "2020-05-18 05:21:22.628429: I tensorflow/stream_executor/cuda/cuda_gpu_executor.cc:981] successful NUMA node read from SysFS had negative value (-1), but there must be at least one NUMA node, so returning NUMA node zero\n",
            "2020-05-18 05:21:22.628911: W tensorflow/core/common_runtime/gpu/gpu_bfc_allocator.cc:39] Overriding allow_growth setting because the TF_FORCE_GPU_ALLOW_GROWTH environment variable is set. Original config value was 0.\n",
            "2020-05-18 05:21:22.628948: I tensorflow/core/common_runtime/gpu/gpu_device.cc:1247] Created TensorFlow device (/job:localhost/replica:0/task:0/device:GPU:0 with 14974 MB memory) -> physical GPU (device: 0, name: Tesla P100-PCIE-16GB, pci bus id: 0000:00:04.0, compute capability: 6.0)\n",
            "2020-05-18 05:21:22.807613: I tensorflow/stream_executor/platform/default/dso_loader.cc:44] Successfully opened dynamic library libcublas.so.10\n",
            "Epoch 000: Loss: 1.787, Accuracy: 0.833%\n",
            "Epoch 050: Loss: 0.554, Accuracy: 70.000%\n",
            "Epoch 100: Loss: 0.451, Accuracy: 70.000%\n",
            "Epoch 150: Loss: 0.417, Accuracy: 73.333%\n",
            "Epoch 200: Loss: 0.366, Accuracy: 86.667%\n"
          ],
          "name": "stdout"
        }
      ]
    },
    {
      "cell_type": "markdown",
      "metadata": {
        "id": "DwhkCs1MOzbl",
        "colab_type": "text"
      },
      "source": [
        "#Conclusion\n",
        "En conclusion, gracias a la sincronización que nos provee el cliente de google drive, podemos hacer todas las modificaciones necesarias de manera local en nuestras computadoras y unicamente utilizar colab para ejecturar el entrenamiento de la red neuronal aprovechando su GPU."
      ]
    },
    {
      "cell_type": "markdown",
      "metadata": {
        "id": "XrZLRBHZPGzF",
        "colab_type": "text"
      },
      "source": [
        "# Bonus\n",
        "**1)**\n",
        "Cuando ejecutamos entrenamientos muy largos, es posible que Colab se desconecte inesperadamente debido a falta de interactibilidad. Para solucionar este problema podemos agregar un código Javascript en esta página para hacer \"clicks\" de manera automática en el boton Conect (Boton donde se muestra uso de RAM y Disco). El código en cuestión es el siguiente:\n",
        "\n",
        "\n",
        "\n",
        "```\n",
        "function ClickConnect(){\n",
        "    console.log(\"Clicked on connect button\"); \n",
        "    document.querySelector(\"colab-connect-button\").click()\n",
        "}\n",
        "setInterval(ClickConnect,60000)\n",
        "```\n",
        "\n",
        "Este código debe agregarse en la consola de Javascript de la siguiente manera:\n",
        "\n",
        "![texto alternativo](https://raw.githubusercontent.com/carlosh93/carlosh93.github.io/master/files/notebook_files/prevent_disconecting.gif)\n",
        "\n",
        "\n",
        "**2)** Si se quiere mas memoria ram, se puede ejecutar el siguiente código en una celda:\n",
        "\n",
        "\n",
        "```\n",
        "a = []\n",
        "while(1):\n",
        "    a.append(‘1’)\n",
        "```\n",
        "Al ejecutarlo, este comando va a llenar la memoria ram disponible en Colab y forzará a este a ampliar la capacidad. Debemos esperar aproximadamente 1 minuto hasta que salga un letrero que pregunta si deseamos ampliar la memoria. Despues de aceptar, tendremos más memoria RAM en nuestro notebook. Mas información: https://towardsdatascience.com/upgrade-your-memory-on-google-colab-for-free-1b8b18e8791d\n",
        "\n",
        "\n"
      ]
    }
  ]
}
